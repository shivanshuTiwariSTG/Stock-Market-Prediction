{
 "cells": [
  {
   "cell_type": "markdown",
   "metadata": {},
   "source": [
    "## Importing the Libraries"
   ]
  },
  {
   "cell_type": "code",
   "execution_count": 1,
   "metadata": {},
   "outputs": [],
   "source": [
    "import numpy as np\n",
    "import matplotlib.pyplot as plt\n",
    "import pandas as pd"
   ]
  },
  {
   "cell_type": "markdown",
   "metadata": {},
   "source": [
    "## Importing the Dataset"
   ]
  },
  {
   "cell_type": "code",
   "execution_count": 2,
   "metadata": {},
   "outputs": [],
   "source": [
    "dataset_train = pd.read_csv('Desktop/Yahoo_Finance.csv')"
   ]
  },
  {
   "cell_type": "code",
   "execution_count": 3,
   "metadata": {},
   "outputs": [],
   "source": [
    "training_set1=dataset_train[0:1258]\n",
    "testing_set1=dataset_train[1258:]"
   ]
  },
  {
   "cell_type": "code",
   "execution_count": 4,
   "metadata": {},
   "outputs": [],
   "source": [
    "training_set = training_set1.iloc[:, 4:5].values\n",
    "testing_set = testing_set1.iloc[:, 4:5].values"
   ]
  },
  {
   "cell_type": "markdown",
   "metadata": {},
   "source": [
    "## Pre-preocessing the Dataset"
   ]
  },
  {
   "cell_type": "code",
   "execution_count": 5,
   "metadata": {},
   "outputs": [],
   "source": [
    "from sklearn.preprocessing import MinMaxScaler\n",
    "sc = MinMaxScaler(feature_range = (0, 1))\n",
    "training_set_scaled = sc.fit_transform(training_set)"
   ]
  },
  {
   "cell_type": "code",
   "execution_count": 6,
   "metadata": {},
   "outputs": [
    {
     "data": {
      "text/plain": [
       "array([[0.        ],\n",
       "       [0.03224044],\n",
       "       [0.01202186],\n",
       "       ...,\n",
       "       [0.73114754],\n",
       "       [0.83442623],\n",
       "       [0.81693989]])"
      ]
     },
     "execution_count": 6,
     "metadata": {},
     "output_type": "execute_result"
    }
   ],
   "source": [
    "training_set_scaled"
   ]
  },
  {
   "cell_type": "code",
   "execution_count": 7,
   "metadata": {},
   "outputs": [],
   "source": [
    "X_train = []\n",
    "y_train = []\n",
    "for i in range(60, 1258):\n",
    "    X_train.append(training_set_scaled[i-60:i, 0])\n",
    "    y_train.append(training_set_scaled[i, 0])\n",
    "X_train, y_train = np.array(X_train), np.array(y_train)\n",
    "\n",
    "X_train = np.reshape(X_train, (X_train.shape[0], X_train.shape[1], 1))"
   ]
  },
  {
   "cell_type": "markdown",
   "metadata": {},
   "source": [
    "## LSTM Implementation"
   ]
  },
  {
   "cell_type": "code",
   "execution_count": 8,
   "metadata": {
    "scrolled": true
   },
   "outputs": [],
   "source": [
    "from tensorflow.keras.models import Sequential\n",
    "from tensorflow.keras.layers import Dense\n",
    "from tensorflow.keras.layers import LSTM\n",
    "from tensorflow.keras.layers import Dropout\n",
    "\n",
    "from tensorflow.python.framework import ops\n",
    "ops.reset_default_graph()"
   ]
  },
  {
   "cell_type": "code",
   "execution_count": 9,
   "metadata": {},
   "outputs": [
    {
     "name": "stdout",
     "output_type": "stream",
     "text": [
      "Train on 1198 samples\n",
      "Epoch 1/100\n",
      "1198/1198 [==============================] - 14s 11ms/sample - loss: 0.0509\n",
      "Epoch 2/100\n",
      "1198/1198 [==============================] - 6s 5ms/sample - loss: 0.0108\n",
      "Epoch 3/100\n",
      "1198/1198 [==============================] - 6s 5ms/sample - loss: 0.0084\n",
      "Epoch 4/100\n",
      "1198/1198 [==============================] - 5s 4ms/sample - loss: 0.0082\n",
      "Epoch 5/100\n",
      "1198/1198 [==============================] - 4s 4ms/sample - loss: 0.0071\n",
      "Epoch 6/100\n",
      "1198/1198 [==============================] - 6s 5ms/sample - loss: 0.0069\n",
      "Epoch 7/100\n",
      "1198/1198 [==============================] - 6s 5ms/sample - loss: 0.0067\n",
      "Epoch 8/100\n",
      "1198/1198 [==============================] - 5s 4ms/sample - loss: 0.0063\n",
      "Epoch 9/100\n",
      "1198/1198 [==============================] - 4s 4ms/sample - loss: 0.0065\n",
      "Epoch 10/100\n",
      "1198/1198 [==============================] - 5s 4ms/sample - loss: 0.0061\n",
      "Epoch 11/100\n",
      "1198/1198 [==============================] - 5s 4ms/sample - loss: 0.0056\n",
      "Epoch 12/100\n",
      "1198/1198 [==============================] - 5s 4ms/sample - loss: 0.0058\n",
      "Epoch 13/100\n",
      "1198/1198 [==============================] - 4s 4ms/sample - loss: 0.0052\n",
      "Epoch 14/100\n",
      "1198/1198 [==============================] - 5s 4ms/sample - loss: 0.0056\n",
      "Epoch 15/100\n",
      "1198/1198 [==============================] - 4s 4ms/sample - loss: 0.0055\n",
      "Epoch 16/100\n",
      "1198/1198 [==============================] - 4s 4ms/sample - loss: 0.0051\n",
      "Epoch 17/100\n",
      "1198/1198 [==============================] - 4s 4ms/sample - loss: 0.0055\n",
      "Epoch 18/100\n",
      "1198/1198 [==============================] - 4s 4ms/sample - loss: 0.0047\n",
      "Epoch 19/100\n",
      "1198/1198 [==============================] - 4s 4ms/sample - loss: 0.0048\n",
      "Epoch 20/100\n",
      "1198/1198 [==============================] - 4s 4ms/sample - loss: 0.0045\n",
      "Epoch 21/100\n",
      "1198/1198 [==============================] - 5s 4ms/sample - loss: 0.0043\n",
      "Epoch 22/100\n",
      "1198/1198 [==============================] - 5s 4ms/sample - loss: 0.0046\n",
      "Epoch 23/100\n",
      "1198/1198 [==============================] - 6s 5ms/sample - loss: 0.0044\n",
      "Epoch 24/100\n",
      "1198/1198 [==============================] - 5s 4ms/sample - loss: 0.0040\n",
      "Epoch 25/100\n",
      "1198/1198 [==============================] - 5s 4ms/sample - loss: 0.0043\n",
      "Epoch 26/100\n",
      "1198/1198 [==============================] - 5s 4ms/sample - loss: 0.0039\n",
      "Epoch 27/100\n",
      "1198/1198 [==============================] - 5s 4ms/sample - loss: 0.0038\n",
      "Epoch 28/100\n",
      "1198/1198 [==============================] - 5s 4ms/sample - loss: 0.0043\n",
      "Epoch 29/100\n",
      "1198/1198 [==============================] - 4s 4ms/sample - loss: 0.0039\n",
      "Epoch 30/100\n",
      "1198/1198 [==============================] - 5s 4ms/sample - loss: 0.0039\n",
      "Epoch 31/100\n",
      "1198/1198 [==============================] - 6s 5ms/sample - loss: 0.0039\n",
      "Epoch 32/100\n",
      "1198/1198 [==============================] - 5s 4ms/sample - loss: 0.0039\n",
      "Epoch 33/100\n",
      "1198/1198 [==============================] - 5s 4ms/sample - loss: 0.0035\n",
      "Epoch 34/100\n",
      "1198/1198 [==============================] - 5s 4ms/sample - loss: 0.0041\n",
      "Epoch 35/100\n",
      "1198/1198 [==============================] - 5s 4ms/sample - loss: 0.0035\n",
      "Epoch 36/100\n",
      "1198/1198 [==============================] - 5s 4ms/sample - loss: 0.0033\n",
      "Epoch 37/100\n",
      "1198/1198 [==============================] - 5s 4ms/sample - loss: 0.0034\n",
      "Epoch 38/100\n",
      "1198/1198 [==============================] - 5s 4ms/sample - loss: 0.0031\n",
      "Epoch 39/100\n",
      "1198/1198 [==============================] - 5s 4ms/sample - loss: 0.0036\n",
      "Epoch 40/100\n",
      "1198/1198 [==============================] - 5s 4ms/sample - loss: 0.0032\n",
      "Epoch 41/100\n",
      "1198/1198 [==============================] - 4s 4ms/sample - loss: 0.0033\n",
      "Epoch 42/100\n",
      "1198/1198 [==============================] - 4s 3ms/sample - loss: 0.0033\n",
      "Epoch 43/100\n",
      "1198/1198 [==============================] - 4s 4ms/sample - loss: 0.0031\n",
      "Epoch 44/100\n",
      "1198/1198 [==============================] - 4s 4ms/sample - loss: 0.0030\n",
      "Epoch 45/100\n",
      "1198/1198 [==============================] - 4s 4ms/sample - loss: 0.0030\n",
      "Epoch 46/100\n",
      "1198/1198 [==============================] - 4s 4ms/sample - loss: 0.0029\n",
      "Epoch 47/100\n",
      "1198/1198 [==============================] - 5s 4ms/sample - loss: 0.0027\n",
      "Epoch 48/100\n",
      "1198/1198 [==============================] - 4s 4ms/sample - loss: 0.0029\n",
      "Epoch 49/100\n",
      "1198/1198 [==============================] - 5s 4ms/sample - loss: 0.0029\n",
      "Epoch 50/100\n",
      "1198/1198 [==============================] - 4s 4ms/sample - loss: 0.0026\n",
      "Epoch 51/100\n",
      "1198/1198 [==============================] - 5s 4ms/sample - loss: 0.0024\n",
      "Epoch 52/100\n",
      "1198/1198 [==============================] - 4s 4ms/sample - loss: 0.0027\n",
      "Epoch 53/100\n",
      "1198/1198 [==============================] - 5s 4ms/sample - loss: 0.0027\n",
      "Epoch 54/100\n",
      "1198/1198 [==============================] - 5s 4ms/sample - loss: 0.0028\n",
      "Epoch 55/100\n",
      "1198/1198 [==============================] - 4s 4ms/sample - loss: 0.0026\n",
      "Epoch 56/100\n",
      "1198/1198 [==============================] - 5s 4ms/sample - loss: 0.0024\n",
      "Epoch 57/100\n",
      "1198/1198 [==============================] - 4s 4ms/sample - loss: 0.0025\n",
      "Epoch 58/100\n",
      "1198/1198 [==============================] - 4s 4ms/sample - loss: 0.0024\n",
      "Epoch 59/100\n",
      "1198/1198 [==============================] - 5s 4ms/sample - loss: 0.0025\n",
      "Epoch 60/100\n",
      "1198/1198 [==============================] - 4s 4ms/sample - loss: 0.0023\n",
      "Epoch 61/100\n",
      "1198/1198 [==============================] - 5s 4ms/sample - loss: 0.0024\n",
      "Epoch 62/100\n",
      "1198/1198 [==============================] - 4s 3ms/sample - loss: 0.0026\n",
      "Epoch 63/100\n",
      "1198/1198 [==============================] - 5s 4ms/sample - loss: 0.0024\n",
      "Epoch 64/100\n",
      "1198/1198 [==============================] - 4s 4ms/sample - loss: 0.0024\n",
      "Epoch 65/100\n",
      "1198/1198 [==============================] - 5s 4ms/sample - loss: 0.0023\n",
      "Epoch 66/100\n",
      "1198/1198 [==============================] - 5s 4ms/sample - loss: 0.0026\n",
      "Epoch 67/100\n",
      "1198/1198 [==============================] - 4s 4ms/sample - loss: 0.0021\n",
      "Epoch 68/100\n",
      "1198/1198 [==============================] - 5s 4ms/sample - loss: 0.0023\n",
      "Epoch 69/100\n",
      "1198/1198 [==============================] - 4s 3ms/sample - loss: 0.0022\n",
      "Epoch 70/100\n",
      "1198/1198 [==============================] - 5s 4ms/sample - loss: 0.0023\n",
      "Epoch 71/100\n",
      "1198/1198 [==============================] - 4s 4ms/sample - loss: 0.0022\n",
      "Epoch 72/100\n",
      "1198/1198 [==============================] - 4s 4ms/sample - loss: 0.0022\n",
      "Epoch 73/100\n",
      "1198/1198 [==============================] - 5s 4ms/sample - loss: 0.0021\n",
      "Epoch 74/100\n",
      "1198/1198 [==============================] - 4s 4ms/sample - loss: 0.0020\n",
      "Epoch 75/100\n",
      "1198/1198 [==============================] - 4s 4ms/sample - loss: 0.0021\n",
      "Epoch 76/100\n",
      "1198/1198 [==============================] - 4s 3ms/sample - loss: 0.0020\n",
      "Epoch 77/100\n",
      "1198/1198 [==============================] - 4s 4ms/sample - loss: 0.0019\n",
      "Epoch 78/100\n",
      "1198/1198 [==============================] - 4s 4ms/sample - loss: 0.0020\n",
      "Epoch 79/100\n",
      "1198/1198 [==============================] - 5s 4ms/sample - loss: 0.0018\n",
      "Epoch 80/100\n",
      "1198/1198 [==============================] - 5s 4ms/sample - loss: 0.0019\n",
      "Epoch 81/100\n",
      "1198/1198 [==============================] - 6s 5ms/sample - loss: 0.0017\n",
      "Epoch 82/100\n",
      "1198/1198 [==============================] - 6s 5ms/sample - loss: 0.0019\n",
      "Epoch 83/100\n",
      "1198/1198 [==============================] - 5s 4ms/sample - loss: 0.0019\n",
      "Epoch 84/100\n",
      "1198/1198 [==============================] - 5s 4ms/sample - loss: 0.0017\n",
      "Epoch 85/100\n",
      "1198/1198 [==============================] - 5s 4ms/sample - loss: 0.0016\n",
      "Epoch 86/100\n",
      "1198/1198 [==============================] - 5s 4ms/sample - loss: 0.0016\n",
      "Epoch 87/100\n",
      "1198/1198 [==============================] - 4s 4ms/sample - loss: 0.0018\n",
      "Epoch 88/100\n",
      "1198/1198 [==============================] - 4s 4ms/sample - loss: 0.0016\n",
      "Epoch 89/100\n",
      "1198/1198 [==============================] - 5s 4ms/sample - loss: 0.0016\n",
      "Epoch 90/100\n",
      "1198/1198 [==============================] - 5s 4ms/sample - loss: 0.0016\n",
      "Epoch 91/100\n",
      "1198/1198 [==============================] - 6s 5ms/sample - loss: 0.0016\n",
      "Epoch 92/100\n",
      "1198/1198 [==============================] - 5s 4ms/sample - loss: 0.0015\n",
      "Epoch 93/100\n",
      "1198/1198 [==============================] - 5s 4ms/sample - loss: 0.0015\n",
      "Epoch 94/100\n",
      "1198/1198 [==============================] - 4s 4ms/sample - loss: 0.0016\n",
      "Epoch 95/100\n",
      "1198/1198 [==============================] - 5s 4ms/sample - loss: 0.0015\n",
      "Epoch 96/100\n",
      "1198/1198 [==============================] - 5s 5ms/sample - loss: 0.0016\n",
      "Epoch 97/100\n",
      "1198/1198 [==============================] - 5s 4ms/sample - loss: 0.0014\n",
      "Epoch 98/100\n",
      "1198/1198 [==============================] - 5s 4ms/sample - loss: 0.0014\n",
      "Epoch 99/100\n",
      "1198/1198 [==============================] - 5s 4ms/sample - loss: 0.0015\n",
      "Epoch 100/100\n",
      "1198/1198 [==============================] - 4s 4ms/sample - loss: 0.0014\n"
     ]
    },
    {
     "data": {
      "text/plain": [
       "<tensorflow.python.keras.callbacks.History at 0x1fbeb9ccb48>"
      ]
     },
     "execution_count": 9,
     "metadata": {},
     "output_type": "execute_result"
    }
   ],
   "source": [
    "regressor = Sequential()\n",
    "\n",
    "regressor.add(LSTM(units = 50, return_sequences = True, input_shape = (X_train.shape[1], 1)))\n",
    "regressor.add(Dropout(0.2))\n",
    "\n",
    "regressor.add(LSTM(units = 50, return_sequences = True))\n",
    "regressor.add(Dropout(0.2))\n",
    "\n",
    "regressor.add(LSTM(units = 50, return_sequences = True))\n",
    "regressor.add(Dropout(0.2))\n",
    "\n",
    "regressor.add(LSTM(units = 50))\n",
    "regressor.add(Dropout(0.2))\n",
    "\n",
    "regressor.add(Dense(units = 1))\n",
    "\n",
    "regressor.compile(optimizer = 'adam', loss = 'mean_squared_error')\n",
    "\n",
    "regressor.fit(X_train, y_train, epochs = 100, batch_size = 32)"
   ]
  },
  {
   "cell_type": "code",
   "execution_count": 10,
   "metadata": {},
   "outputs": [],
   "source": [
    "dataset_test = testing_set1\n",
    "real_stock_price = dataset_test.iloc[:, 4:5].values"
   ]
  },
  {
   "cell_type": "markdown",
   "metadata": {},
   "source": [
    "## Predicting the Output"
   ]
  },
  {
   "cell_type": "code",
   "execution_count": 38,
   "metadata": {},
   "outputs": [],
   "source": [
    "dataset_total = pd.concat((dataset_train['Open'], dataset_test['Open']), axis = 0)\n",
    "inputs = dataset_total[len(dataset_total) - len(dataset_test) - 60:].values\n",
    "inputs = inputs.reshape(-1,1)\n",
    "inputs = sc.transform(inputs)\n",
    "X_test = []\n",
    "for i in range(61, 563):\n",
    "    X_test.append(inputs[i-60:i, 0])\n",
    "X_test = np.array(X_test)\n",
    "X_test = np.reshape(X_test, (X_test.shape[0], X_test.shape[1], 1))\n",
    "predicted_stock_price = regressor.predict(X_test)\n",
    "predicted_stock_price = sc.inverse_transform(predicted_stock_price)"
   ]
  },
  {
   "cell_type": "markdown",
   "metadata": {},
   "source": [
    "## Visualizing the Output"
   ]
  },
  {
   "cell_type": "code",
   "execution_count": 49,
   "metadata": {},
   "outputs": [
    {
     "data": {
      "image/png": "[encoded data removed]",
      "text/plain": [
       "<Figure size 1080x432 with 1 Axes>"
      ]
     },
     "metadata": {
      "needs_background": "light"
     },
     "output_type": "display_data"
    }
   ],
   "source": [
    "from matplotlib.pylab import rcParams\n",
    "rcParams['figure.figsize']=15,6\n",
    "\n",
    "plt.plot(real_stock_price, color = 'black', label = 'Yahoo Finance Stock Price')\n",
    "plt.plot(predicted_stock_price, color = 'green', label = 'Yahoo Finance Predicted Stock Price')\n",
    "plt.title('Yahoo Finance Stock Price Prediction')\n",
    "plt.xlabel('Time')\n",
    "plt.ylabel('Yahoo Finance Stock Price')\n",
    "plt.legend()\n",
    "plt.show()"
   ]
  },
  {
   "cell_type": "code",
   "execution_count": 42,
   "metadata": {},
   "outputs": [],
   "source": [
    "import numpy as np\n",
    "from sklearn.metrics import mean_squared_error\n",
    "from sklearn.metrics import r2_score\n",
    "test_set_rmse = (np.sqrt(mean_squared_error(real_stock_price, predicted_stock_price)))\n",
    "test_set_r2 = r2_score(real_stock_price, predicted_stock_price)"
   ]
  },
  {
   "cell_type": "code",
   "execution_count": 43,
   "metadata": {},
   "outputs": [
    {
     "name": "stdout",
     "output_type": "stream",
     "text": [
      "0.5048125514001949\n"
     ]
    }
   ],
   "source": [
    "print(test_set_rmse)"
   ]
  },
  {
   "cell_type": "code",
   "execution_count": 48,
   "metadata": {},
   "outputs": [
    {
     "name": "stdout",
     "output_type": "stream",
     "text": [
      "0.9942564447\n"
     ]
    }
   ],
   "source": [
    "print(test_set_r2)"
   ]
  }
 ],
 "metadata": {
  "kernelspec": {
   "display_name": "Python 3",
   "language": "python",
   "name": "python3"
  },
  "language_info": {
   "codemirror_mode": {
    "name": "ipython",
    "version": 3
   },
   "file_extension": ".py",
   "mimetype": "text/x-python",
   "name": "python",
   "nbconvert_exporter": "python",
   "pygments_lexer": "ipython3",
   "version": "3.7.4"
  }
 },
 "nbformat": 4,
 "nbformat_minor": 2
}
